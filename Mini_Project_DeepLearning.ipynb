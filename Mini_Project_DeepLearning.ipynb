{
 "cells": [
  {
   "cell_type": "markdown",
   "metadata": {
    "id": "hK2qx16izkiP"
   },
   "source": [
    "Team Members:</br>\n",
    "1. Piyush Gautam (pg2374)</br>\n",
    "2. Jayanth Guduru (jg7162)</br>\n",
    "3. Naveen Mallemala (nm3937)</br>\n",
    "\n",
    "GitHub : https://github.com/pg2374/Pytorch-CIFAR10-RESNET18"
   ]
  },
  {
   "cell_type": "markdown",
   "metadata": {
    "id": "K0k6i1pf2FQG"
   },
   "source": [
    "#Pytorch on CIFAR-10 Dataset with Batch Normalisation and Dropout on Convolution Layers output after the activation function "
   ]
  },
  {
   "cell_type": "code",
   "execution_count": 2,
   "metadata": {
    "colab": {
     "base_uri": "https://localhost:8080/"
    },
    "id": "ExUAxsshF398",
    "outputId": "cdf080f1-b13a-4f4e-cdd7-217d6f2c138e",
    "scrolled": true
   },
   "outputs": [
    {
     "name": "stdout",
     "output_type": "stream",
     "text": [
      "Looking in indexes: https://pypi.org/simple, https://us-python.pkg.dev/colab-wheels/public/simple/\n",
      "Looking in links: https://download.pytorch.org/whl/torch_stable.html\n",
      "Collecting torch==1.2.0+cu92\n",
      "  Downloading https://download.pytorch.org/whl/cu92/torch-1.2.0%2Bcu92-cp37-cp37m-manylinux1_x86_64.whl (663.1 MB)\n",
      "\u001b[K     |████████████████████████████████| 663.1 MB 1.5 kB/s \n",
      "\u001b[?25hCollecting torchvision==0.4.0+cu92\n",
      "  Downloading https://download.pytorch.org/whl/cu92/torchvision-0.4.0%2Bcu92-cp37-cp37m-manylinux1_x86_64.whl (8.8 MB)\n",
      "\u001b[K     |████████████████████████████████| 8.8 MB 89.0 MB/s \n",
      "\u001b[?25hRequirement already satisfied: numpy in /usr/local/lib/python3.7/dist-packages (from torch==1.2.0+cu92) (1.21.6)\n",
      "Requirement already satisfied: pillow>=4.1.1 in /usr/local/lib/python3.7/dist-packages (from torchvision==0.4.0+cu92) (7.1.2)\n",
      "Requirement already satisfied: six in /usr/local/lib/python3.7/dist-packages (from torchvision==0.4.0+cu92) (1.15.0)\n",
      "Installing collected packages: torch, torchvision\n",
      "  Attempting uninstall: torch\n",
      "    Found existing installation: torch 1.12.1+cu113\n",
      "    Uninstalling torch-1.12.1+cu113:\n",
      "      Successfully uninstalled torch-1.12.1+cu113\n",
      "  Attempting uninstall: torchvision\n",
      "    Found existing installation: torchvision 0.13.1+cu113\n",
      "    Uninstalling torchvision-0.13.1+cu113:\n",
      "      Successfully uninstalled torchvision-0.13.1+cu113\n",
      "\u001b[31mERROR: pip's dependency resolver does not currently take into account all the packages that are installed. This behaviour is the source of the following dependency conflicts.\n",
      "torchtext 0.13.1 requires torch==1.12.1, but you have torch 1.2.0+cu92 which is incompatible.\n",
      "torchaudio 0.12.1+cu113 requires torch==1.12.1, but you have torch 1.2.0+cu92 which is incompatible.\n",
      "fastai 2.7.10 requires torch<1.14,>=1.7, but you have torch 1.2.0+cu92 which is incompatible.\n",
      "fastai 2.7.10 requires torchvision>=0.8.2, but you have torchvision 0.4.0+cu92 which is incompatible.\u001b[0m\n",
      "Successfully installed torch-1.2.0+cu92 torchvision-0.4.0+cu92\n"
     ]
    }
   ],
   "source": [
    "# Install torchvision\n",
    "!pip3 install torch==1.2.0+cu92 torchvision==0.4.0+cu92 -f https://download.pytorch.org/whl/torch_stable.html"
   ]
  },
  {
   "cell_type": "code",
   "execution_count": 3,
   "metadata": {
    "id": "EY1oIBQPJzLn"
   },
   "outputs": [],
   "source": [
    "'''ResNet in PyTorch.\n",
    "Reference:\n",
    "[1] Kaiming He, Xiangyu Zhang, Shaoqing Ren, Jian Sun\n",
    "    Deep Residual Learning for Image Recognition.\n",
    "[2] https://github.com/kuangliu/pytorch-cifar\n",
    "[3] https://github.com/abhisikdar/RESNET18-CIFAR10 \n",
    "[4] https://www.srose.biz/wp-content/uploads/2020/08/Batch-Size-and-Epochs.html  \n",
    "'''\n",
    "import torch\n",
    "import torch.nn as nn\n",
    "import torch.nn.functional as F\n",
    "\n",
    "\n",
    "class BasicBlock(nn.Module):\n",
    "    expansion = 1\n",
    "\n",
    "    def __init__(self, in_planes, planes, stride=1):\n",
    "        super(BasicBlock, self).__init__()\n",
    "        self.conv1 = nn.Conv2d(\n",
    "            in_planes, planes, kernel_size=3, stride=stride, padding=1, bias=False)\n",
    "        self.bn1 = nn.BatchNorm2d(planes)\n",
    "        self.conv2 = nn.Conv2d(planes, planes, kernel_size=3,\n",
    "                               stride=1, padding=1, bias=False)\n",
    "        self.bn2 = nn.BatchNorm2d(planes)\n",
    "\n",
    "        self.shortcut = nn.Sequential()\n",
    "        \n",
    "        if stride != 1 or in_planes != self.expansion*planes:\n",
    "            self.shortcut = nn.Sequential(\n",
    "                nn.Conv2d(in_planes, self.expansion*planes,\n",
    "                          kernel_size=1, stride=stride, bias=False),\n",
    "                nn.BatchNorm2d(self.expansion*planes)\n",
    "            )\n",
    "        # Dropout after Convolutional BasicBlock\n",
    "        self.dropout = nn.Dropout(0.25)\n",
    "\n",
    "    def forward(self, x):\n",
    "        out = F.relu(self.bn1(self.conv1(x)))\n",
    "        out = self.dropout(out)\n",
    "        out = self.bn2(self.conv2(out))\n",
    "        out += self.shortcut(x)\n",
    "        out = F.relu(out)\n",
    "        return out\n",
    "\n",
    "\n",
    "\n",
    "\n",
    "class ResNet(nn.Module):\n",
    "    def __init__(self, block, num_blocks, num_classes=10):\n",
    "        super(ResNet, self).__init__()\n",
    "        self.in_planes = 64\n",
    "\n",
    "        self.conv1 = nn.Conv2d(3, 64, kernel_size=3,\n",
    "                               stride=1, padding=1, bias=False)\n",
    "        self.bn1 = nn.BatchNorm2d(64)\n",
    "        self.layer1 = self._make_layer(block, 64, num_blocks[0], stride=1)\n",
    "        self.layer2 = self._make_layer(block, 128, num_blocks[1], stride=2)\n",
    "        self.layer3 = self._make_layer(block, 256, num_blocks[2], stride=2)\n",
    "        self.layer4 = self._make_layer(block, 512, num_blocks[3], stride=2)\n",
    "        self.linear = nn.Linear(512*block.expansion, num_classes)\n",
    "        self.dropout = nn.Dropout(0.25)\n",
    "\n",
    "    def _make_layer(self, block, planes, num_blocks, stride):\n",
    "        strides = [stride] + [1]*(num_blocks-1)\n",
    "        layers = []\n",
    "        for stride in strides:\n",
    "            layers.append(block(self.in_planes, planes, stride))\n",
    "            self.in_planes = planes * block.expansion\n",
    "        return nn.Sequential(*layers)\n",
    "\n",
    "    def forward(self, x):\n",
    "        out = F.relu(self.bn1(self.conv1(x)))\n",
    "        out = self.dropout(out)\n",
    "        out = self.layer1(out)\n",
    "        out = self.layer2(out)\n",
    "        out = self.layer3(out)\n",
    "        out = self.layer4(out)\n",
    "        out = F.avg_pool2d(out, 4)\n",
    "        out = out.view(out.size(0), -1)\n",
    "        out = self.linear(out)\n",
    "        return out\n",
    "\n",
    "\n",
    "def ResNet18():\n",
    "    return ResNet(BasicBlock, [2, 2, 2, 2])\n",
    "\n",
    "\n",
    "def test():\n",
    "    net = ResNet18()\n",
    "    y = net(torch.randn(1, 3, 32, 32))\n",
    "    print(y.size())"
   ]
  },
  {
   "cell_type": "code",
   "execution_count": null,
   "metadata": {
    "id": "eyUAmmlWKXSJ"
   },
   "outputs": [],
   "source": [
    "# # Calculating the top 1% accuracy\n",
    "# def accuracy(output: torch.Tensor, target: torch.Tensor, topk=(1,)):\n",
    "#     with torch.no_grad():\n",
    "#         maxk = max(topk) \n",
    "#         batch_size = target.size(0)\n",
    "#         _, y_pred = output.topk(k=maxk, dim=1) \n",
    "#         y_pred = y_pred.t()\n",
    "#         target_reshaped = target.view(1, -1).expand_as(y_pred)\n",
    "#         correct = (y_pred == target_reshaped)\n",
    "\n",
    "#         list_topk_accs = []\n",
    "#         for k in topk:\n",
    "#             ind_which_topk_matched_truth = correct[:k]\n",
    "#             flattened_indicator_which_topk_matched_truth = ind_which_topk_matched_truth.reshape(-1).float()\n",
    "#             tot_correct_topk = flattened_indicator_which_topk_matched_truth.float().sum(dim=0, keepdim=True)\n",
    "#             topk_acc = tot_correct_topk / batch_size \n",
    "#             list_topk_accs.append(topk_acc)\n",
    "#         return list_topk_accs\n"
   ]
  },
  {
   "cell_type": "code",
   "execution_count": 4,
   "metadata": {
    "colab": {
     "base_uri": "https://localhost:8080/"
    },
    "id": "I3vJfiujKAA8",
    "outputId": "198d47e1-e5a4-4640-e343-a9793b74f3c0"
   },
   "outputs": [
    {
     "name": "stdout",
     "output_type": "stream",
     "text": [
      "Is CUDA available True\n",
      "Torch 1.2.0+cu92 CUDA 9.2.148\n",
      "Device: cuda:0\n"
     ]
    }
   ],
   "source": [
    "import torch\n",
    "from torchvision import datasets\n",
    "from torchvision import transforms\n",
    "import matplotlib.pyplot as plt\n",
    "import torch.nn as nn\n",
    "import torch.nn.functional as F\n",
    "import torchvision.models as models\n",
    "import torch.backends.cudnn as cudnn\n",
    "\n",
    "print('Is CUDA available', torch.cuda.is_available())\n",
    "print('Torch', torch.__version__, 'CUDA', torch.version.cuda)\n",
    "print('Device:', torch.device('cuda:0'))"
   ]
  },
  {
   "cell_type": "markdown",
   "metadata": {
    "id": "Bl1ayyQoV12D"
   },
   "source": [
    "# Data Pre-processing</br>\n",
    "1. Random cropping, with size 32x32 and padding 4</br>\n",
    "2. Random horizontal flipping with a probability of 0.5</br>\n",
    "3. Normalize each image’s RGB channel with mean() and std()</br>"
   ]
  },
  {
   "cell_type": "code",
   "execution_count": 5,
   "metadata": {
    "colab": {
     "base_uri": "https://localhost:8080/"
    },
    "id": "5Q8yZoewbH-c",
    "outputId": "9578f966-f527-440b-b4a5-764a61b12d18"
   },
   "outputs": [
    {
     "name": "stdout",
     "output_type": "stream",
     "text": [
      "Downloading https://www.cs.toronto.edu/~kriz/cifar-10-python.tar.gz to ../data/cifar-10-python.tar.gz\n"
     ]
    },
    {
     "name": "stderr",
     "output_type": "stream",
     "text": [
      "170500096it [00:11, 14509573.04it/s]                               \n"
     ]
    },
    {
     "name": "stdout",
     "output_type": "stream",
     "text": [
      "Extracting ../data/cifar-10-python.tar.gz to ../data/\n",
      "Files already downloaded and verified\n"
     ]
    }
   ],
   "source": [
    "data_path='../data/'\n",
    "cifar=datasets.CIFAR10(data_path, train= True, download=True, transform=transforms.ToTensor())\n",
    "cifar_val=datasets.CIFAR10(data_path, train=False, download= True, transform=transforms.ToTensor())"
   ]
  },
  {
   "cell_type": "code",
   "execution_count": 6,
   "metadata": {
    "colab": {
     "base_uri": "https://localhost:8080/"
    },
    "id": "iaEu9XyAbQnA",
    "outputId": "c37f989f-6bde-4efa-867c-9bc285cac1c3"
   },
   "outputs": [
    {
     "name": "stdout",
     "output_type": "stream",
     "text": [
      "Shape of the CIFAR stack is torch.Size([3, 32, 32, 50000])\n",
      "Mean of training data is tensor([0.4915, 0.4823, 0.4468])\n",
      "Standard deviation of training data is tensor([0.2470, 0.2435, 0.2616])\n"
     ]
    }
   ],
   "source": [
    "cifar_stack = torch.stack([img for img, _ in cifar], dim=3)\n",
    "print('Shape of the CIFAR stack is',cifar_stack.shape)\n",
    "mean= cifar_stack.view(3,-1).mean(dim=1)\n",
    "std= cifar_stack.view(3,-1).std(dim=1)\n",
    "print('Mean of training data is', mean)\n",
    "print('Standard deviation of training data is', std)"
   ]
  },
  {
   "cell_type": "code",
   "execution_count": 7,
   "metadata": {
    "id": "gFxMI-jGbkuZ"
   },
   "outputs": [],
   "source": [
    "cifar_transformed = datasets.CIFAR10(data_path,train=True,download=False, transform=transforms.Compose([\n",
    "                                                                                                      transforms.RandomCrop(32, padding=4),\n",
    "    transforms.RandomHorizontalFlip(p=0.5),transforms.ToTensor(),transforms.Normalize(mean,std)\n",
    "]))\n",
    "cifar_val_transformed = datasets.CIFAR10(data_path,train=False,download=False, transform=transforms.Compose([\n",
    "                                                                                                      transforms.RandomCrop(32, padding=4),\n",
    "    transforms.RandomHorizontalFlip(p=0.5),transforms.ToTensor(),transforms.Normalize(mean,std)\n",
    "]))"
   ]
  },
  {
   "cell_type": "code",
   "execution_count": 8,
   "metadata": {
    "colab": {
     "base_uri": "https://localhost:8080/",
     "height": 284
    },
    "id": "OEPqKwgmbecl",
    "outputId": "caac8ee0-c1c0-439c-aff7-4f83107da38b"
   },
   "outputs": [
    {
     "name": "stderr",
     "output_type": "stream",
     "text": [
      "WARNING:matplotlib.image:Clipping input data to the valid range for imshow with RGB data ([0..1] for floats or [0..255] for integers).\n"
     ]
    },
    {
     "data": {
      "image/png": "[encoded data removed]",
      "text/plain": [
       "<Figure size 432x288 with 1 Axes>"
      ]
     },
     "metadata": {
      "needs_background": "light"
     },
     "output_type": "display_data"
    }
   ],
   "source": [
    "# View images\n",
    "\n",
    "img, label = cifar_transformed[28]\n",
    "plt.imshow(img.permute(1, 2, 0))    \n",
    "plt.show()"
   ]
  },
  {
   "cell_type": "markdown",
   "metadata": {
    "id": "K3bOnutot4Q6"
   },
   "source": [
    "#Varied the batch size for training dataset with other parameters fixed to measure the effect of batch size.</br>\n",
    "Now, our Data is ready for Training.</br>\n"
   ]
  },
  {
   "cell_type": "code",
   "execution_count": null,
   "metadata": {
    "id": "840E6DAybjuM"
   },
   "outputs": [],
   "source": [
    "# Parameters\n",
    "batch_size=[256,512]\n",
    "val_batch_size=100\n",
    "num_epochs=80\n",
    "# learning_rate=0.1\n",
    "\n",
    "dev=torch.device(\"cuda:0\" if torch.cuda.is_available() else \"cpu\")\n",
    "\n",
    "max_validation = 0\n",
    "max_epoch=0\n",
    "val_acc=[]\n",
    "train_acc=[]\n",
    "epochs=[]"
   ]
  },
  {
   "cell_type": "code",
   "execution_count": null,
   "metadata": {
    "colab": {
     "base_uri": "https://localhost:8080/",
     "height": 1000
    },
    "id": "avav9Xfgd5-B",
    "outputId": "d1330a26-872e-4a60-bb63-a3980f868819"
   },
   "outputs": [
    {
     "name": "stdout",
     "output_type": "stream",
     "text": [
      "Epoch no 1:\t Train Loss: 2.059316 \t Train Accuracy: 0.407820 \t Validation Accuracy: 0.410500\n"
     ]
    },
    {
     "name": "stderr",
     "output_type": "stream",
     "text": [
      "/usr/local/lib/python3.7/dist-packages/torch/serialization.py:256: UserWarning: Couldn't retrieve source code for container of type ResNet. It won't be checked for correctness upon loading.\n",
      "  \"type \" + obj.__name__ + \". It won't be checked \"\n",
      "/usr/local/lib/python3.7/dist-packages/torch/serialization.py:256: UserWarning: Couldn't retrieve source code for container of type BasicBlock. It won't be checked for correctness upon loading.\n",
      "  \"type \" + obj.__name__ + \". It won't be checked \"\n"
     ]
    },
    {
     "name": "stdout",
     "output_type": "stream",
     "text": [
      "Epoch no 2:\t Train Loss: 1.409685 \t Train Accuracy: 0.491840 \t Validation Accuracy: 0.483800\n",
      "Epoch no 3:\t Train Loss: 1.353077 \t Train Accuracy: 0.567820 \t Validation Accuracy: 0.558500\n",
      "Epoch no 4:\t Train Loss: 1.023971 \t Train Accuracy: 0.640840 \t Validation Accuracy: 0.626000\n",
      "Epoch no 5:\t Train Loss: 0.733464 \t Train Accuracy: 0.687800 \t Validation Accuracy: 0.679900\n",
      "Epoch no 6:\t Train Loss: 0.746233 \t Train Accuracy: 0.706020 \t Validation Accuracy: 0.691300\n",
      "Epoch no 7:\t Train Loss: 0.760231 \t Train Accuracy: 0.760340 \t Validation Accuracy: 0.742000\n",
      "Epoch no 8:\t Train Loss: 0.619271 \t Train Accuracy: 0.784280 \t Validation Accuracy: 0.764100\n",
      "Epoch no 9:\t Train Loss: 0.762107 \t Train Accuracy: 0.788940 \t Validation Accuracy: 0.772600\n",
      "Epoch no 10:\t Train Loss: 0.454060 \t Train Accuracy: 0.811220 \t Validation Accuracy: 0.789900\n",
      "Epoch no 11:\t Train Loss: 0.462879 \t Train Accuracy: 0.819220 \t Validation Accuracy: 0.798700\n",
      "Epoch no 12:\t Train Loss: 0.415925 \t Train Accuracy: 0.831320 \t Validation Accuracy: 0.809500\n",
      "Epoch no 13:\t Train Loss: 0.558582 \t Train Accuracy: 0.840680 \t Validation Accuracy: 0.816000\n",
      "Epoch no 14:\t Train Loss: 0.451855 \t Train Accuracy: 0.848940 \t Validation Accuracy: 0.823700\n",
      "Epoch no 15:\t Train Loss: 0.551994 \t Train Accuracy: 0.849280 \t Validation Accuracy: 0.824500\n",
      "Epoch no 16:\t Train Loss: 0.394413 \t Train Accuracy: 0.859080 \t Validation Accuracy: 0.828000\n",
      "Epoch no 17:\t Train Loss: 0.585508 \t Train Accuracy: 0.862120 \t Validation Accuracy: 0.835600\n",
      "Epoch no 18:\t Train Loss: 0.385920 \t Train Accuracy: 0.862140 \t Validation Accuracy: 0.834000\n",
      "Epoch no 19:\t Train Loss: 0.518638 \t Train Accuracy: 0.870620 \t Validation Accuracy: 0.835900\n",
      "Epoch no 20:\t Train Loss: 0.487737 \t Train Accuracy: 0.865820 \t Validation Accuracy: 0.835200\n",
      "Epoch no 21:\t Train Loss: 0.473014 \t Train Accuracy: 0.878020 \t Validation Accuracy: 0.848600\n",
      "Epoch no 22:\t Train Loss: 0.545335 \t Train Accuracy: 0.874780 \t Validation Accuracy: 0.841400\n",
      "Epoch no 23:\t Train Loss: 0.446088 \t Train Accuracy: 0.880780 \t Validation Accuracy: 0.848400\n",
      "Epoch no 24:\t Train Loss: 0.496873 \t Train Accuracy: 0.886240 \t Validation Accuracy: 0.853700\n",
      "Epoch no 25:\t Train Loss: 0.304612 \t Train Accuracy: 0.885200 \t Validation Accuracy: 0.850100\n",
      "Epoch no 26:\t Train Loss: 0.419857 \t Train Accuracy: 0.885760 \t Validation Accuracy: 0.856300\n",
      "Epoch no 27:\t Train Loss: 0.481881 \t Train Accuracy: 0.888340 \t Validation Accuracy: 0.859700\n",
      "Epoch no 28:\t Train Loss: 0.424157 \t Train Accuracy: 0.892260 \t Validation Accuracy: 0.851800\n",
      "Epoch no 29:\t Train Loss: 0.383066 \t Train Accuracy: 0.898640 \t Validation Accuracy: 0.863000\n",
      "Epoch no 30:\t Train Loss: 0.357070 \t Train Accuracy: 0.892580 \t Validation Accuracy: 0.859300\n",
      "Epoch no 31:\t Train Loss: 0.220823 \t Train Accuracy: 0.900920 \t Validation Accuracy: 0.863700\n",
      "Epoch no 32:\t Train Loss: 0.345880 \t Train Accuracy: 0.887520 \t Validation Accuracy: 0.850200\n",
      "Epoch no 33:\t Train Loss: 0.262769 \t Train Accuracy: 0.903620 \t Validation Accuracy: 0.868200\n",
      "Epoch no 34:\t Train Loss: 0.385984 \t Train Accuracy: 0.901320 \t Validation Accuracy: 0.862300\n",
      "Epoch no 35:\t Train Loss: 0.462091 \t Train Accuracy: 0.904080 \t Validation Accuracy: 0.863000\n",
      "Epoch no 36:\t Train Loss: 0.340670 \t Train Accuracy: 0.904980 \t Validation Accuracy: 0.862200\n",
      "Epoch no 37:\t Train Loss: 0.410593 \t Train Accuracy: 0.908240 \t Validation Accuracy: 0.874300\n",
      "Epoch no 38:\t Train Loss: 0.315806 \t Train Accuracy: 0.906060 \t Validation Accuracy: 0.868200\n",
      "Epoch no 39:\t Train Loss: 0.233351 \t Train Accuracy: 0.909880 \t Validation Accuracy: 0.867100\n",
      "Epoch no 40:\t Train Loss: 0.181170 \t Train Accuracy: 0.915440 \t Validation Accuracy: 0.873600\n",
      "Epoch no 41:\t Train Loss: 0.293333 \t Train Accuracy: 0.914700 \t Validation Accuracy: 0.874700\n",
      "Epoch no 42:\t Train Loss: 0.180180 \t Train Accuracy: 0.914160 \t Validation Accuracy: 0.872700\n",
      "Epoch no 43:\t Train Loss: 0.355048 \t Train Accuracy: 0.918340 \t Validation Accuracy: 0.873100\n",
      "Epoch no 44:\t Train Loss: 0.202712 \t Train Accuracy: 0.925700 \t Validation Accuracy: 0.879300\n",
      "Epoch no 45:\t Train Loss: 0.191978 \t Train Accuracy: 0.914500 \t Validation Accuracy: 0.873400\n",
      "Epoch no 46:\t Train Loss: 0.208726 \t Train Accuracy: 0.925540 \t Validation Accuracy: 0.879100\n",
      "Epoch no 47:\t Train Loss: 0.150810 \t Train Accuracy: 0.925380 \t Validation Accuracy: 0.877500\n",
      "Epoch no 48:\t Train Loss: 0.257669 \t Train Accuracy: 0.928900 \t Validation Accuracy: 0.879800\n",
      "Epoch no 49:\t Train Loss: 0.201115 \t Train Accuracy: 0.926400 \t Validation Accuracy: 0.881300\n",
      "Epoch no 50:\t Train Loss: 0.330637 \t Train Accuracy: 0.934980 \t Validation Accuracy: 0.884800\n",
      "Epoch no 51:\t Train Loss: 0.386218 \t Train Accuracy: 0.933960 \t Validation Accuracy: 0.884500\n",
      "Epoch no 52:\t Train Loss: 0.194330 \t Train Accuracy: 0.933120 \t Validation Accuracy: 0.879500\n",
      "Epoch no 53:\t Train Loss: 0.158355 \t Train Accuracy: 0.939980 \t Validation Accuracy: 0.892600\n",
      "Epoch no 54:\t Train Loss: 0.287424 \t Train Accuracy: 0.941300 \t Validation Accuracy: 0.887800\n",
      "Epoch no 55:\t Train Loss: 0.182691 \t Train Accuracy: 0.944640 \t Validation Accuracy: 0.895600\n",
      "Epoch no 56:\t Train Loss: 0.051513 \t Train Accuracy: 0.943440 \t Validation Accuracy: 0.887500\n",
      "Epoch no 57:\t Train Loss: 0.141267 \t Train Accuracy: 0.942240 \t Validation Accuracy: 0.890100\n",
      "Epoch no 58:\t Train Loss: 0.130443 \t Train Accuracy: 0.947700 \t Validation Accuracy: 0.892500\n",
      "Epoch no 59:\t Train Loss: 0.198764 \t Train Accuracy: 0.950200 \t Validation Accuracy: 0.892300\n",
      "Epoch no 60:\t Train Loss: 0.148120 \t Train Accuracy: 0.945900 \t Validation Accuracy: 0.889000\n",
      "Epoch no 61:\t Train Loss: 0.297293 \t Train Accuracy: 0.945000 \t Validation Accuracy: 0.888400\n",
      "Epoch no 62:\t Train Loss: 0.174329 \t Train Accuracy: 0.950480 \t Validation Accuracy: 0.893400\n",
      "Epoch no 63:\t Train Loss: 0.135455 \t Train Accuracy: 0.955100 \t Validation Accuracy: 0.892800\n",
      "Epoch no 64:\t Train Loss: 0.109519 \t Train Accuracy: 0.959580 \t Validation Accuracy: 0.897000\n",
      "Epoch no 65:\t Train Loss: 0.159389 \t Train Accuracy: 0.960060 \t Validation Accuracy: 0.904000\n",
      "Epoch no 66:\t Train Loss: 0.063829 \t Train Accuracy: 0.961780 \t Validation Accuracy: 0.897600\n",
      "Epoch no 67:\t Train Loss: 0.147558 \t Train Accuracy: 0.965300 \t Validation Accuracy: 0.906900\n",
      "Epoch no 68:\t Train Loss: 0.151854 \t Train Accuracy: 0.966980 \t Validation Accuracy: 0.907200\n",
      "Epoch no 69:\t Train Loss: 0.138293 \t Train Accuracy: 0.969600 \t Validation Accuracy: 0.905100\n",
      "Epoch no 70:\t Train Loss: 0.063318 \t Train Accuracy: 0.973140 \t Validation Accuracy: 0.907500\n",
      "Epoch no 71:\t Train Loss: 0.040865 \t Train Accuracy: 0.972500 \t Validation Accuracy: 0.906400\n",
      "Epoch no 72:\t Train Loss: 0.146871 \t Train Accuracy: 0.974420 \t Validation Accuracy: 0.910600\n",
      "Epoch no 73:\t Train Loss: 0.093193 \t Train Accuracy: 0.975900 \t Validation Accuracy: 0.907500\n",
      "Epoch no 74:\t Train Loss: 0.081559 \t Train Accuracy: 0.977800 \t Validation Accuracy: 0.912700\n",
      "Epoch no 75:\t Train Loss: 0.035086 \t Train Accuracy: 0.981780 \t Validation Accuracy: 0.913900\n",
      "Epoch no 76:\t Train Loss: 0.064822 \t Train Accuracy: 0.982800 \t Validation Accuracy: 0.913300\n",
      "Epoch no 77:\t Train Loss: 0.120495 \t Train Accuracy: 0.983160 \t Validation Accuracy: 0.911000\n",
      "Epoch no 78:\t Train Loss: 0.009831 \t Train Accuracy: 0.985680 \t Validation Accuracy: 0.916300\n",
      "Epoch no 79:\t Train Loss: 0.041006 \t Train Accuracy: 0.989080 \t Validation Accuracy: 0.920400\n",
      "Epoch no 80:\t Train Loss: 0.053192 \t Train Accuracy: 0.989060 \t Validation Accuracy: 0.919800\n",
      "0.9204\n"
     ]
    },
    {
     "data": {
      "image/png": "[encoded data removed]",
      "text/plain": [
       "<Figure size 432x288 with 1 Axes>"
      ]
     },
     "metadata": {},
     "output_type": "display_data"
    },
    {
     "name": "stdout",
     "output_type": "stream",
     "text": [
      "Epoch no 1:\t Train Loss: 1.851783 \t Train Accuracy: 0.254240 \t Validation Accuracy: 0.256800\n",
      "Epoch no 2:\t Train Loss: 1.632281 \t Train Accuracy: 0.382580 \t Validation Accuracy: 0.389900\n",
      "Epoch no 3:\t Train Loss: 1.505038 \t Train Accuracy: 0.465100 \t Validation Accuracy: 0.470600\n",
      "Epoch no 4:\t Train Loss: 1.293925 \t Train Accuracy: 0.563840 \t Validation Accuracy: 0.563800\n",
      "Epoch no 5:\t Train Loss: 1.042036 \t Train Accuracy: 0.623260 \t Validation Accuracy: 0.615700\n",
      "Epoch no 6:\t Train Loss: 1.019472 \t Train Accuracy: 0.657540 \t Validation Accuracy: 0.647500\n",
      "Epoch no 7:\t Train Loss: 0.872649 \t Train Accuracy: 0.674360 \t Validation Accuracy: 0.662700\n",
      "Epoch no 8:\t Train Loss: 0.737331 \t Train Accuracy: 0.712220 \t Validation Accuracy: 0.699100\n",
      "Epoch no 9:\t Train Loss: 0.681784 \t Train Accuracy: 0.737900 \t Validation Accuracy: 0.718600\n",
      "Epoch no 10:\t Train Loss: 0.717634 \t Train Accuracy: 0.749120 \t Validation Accuracy: 0.735800\n",
      "Epoch no 11:\t Train Loss: 0.684109 \t Train Accuracy: 0.778700 \t Validation Accuracy: 0.765800\n",
      "Epoch no 12:\t Train Loss: 0.542677 \t Train Accuracy: 0.799140 \t Validation Accuracy: 0.780100\n",
      "Epoch no 13:\t Train Loss: 0.548151 \t Train Accuracy: 0.813120 \t Validation Accuracy: 0.794200\n",
      "Epoch no 14:\t Train Loss: 0.536025 \t Train Accuracy: 0.823360 \t Validation Accuracy: 0.798400\n",
      "Epoch no 15:\t Train Loss: 0.425151 \t Train Accuracy: 0.829720 \t Validation Accuracy: 0.804100\n",
      "Epoch no 16:\t Train Loss: 0.457473 \t Train Accuracy: 0.832280 \t Validation Accuracy: 0.815600\n",
      "Epoch no 17:\t Train Loss: 0.488935 \t Train Accuracy: 0.847120 \t Validation Accuracy: 0.822300\n",
      "Epoch no 18:\t Train Loss: 0.446378 \t Train Accuracy: 0.853100 \t Validation Accuracy: 0.826700\n",
      "Epoch no 19:\t Train Loss: 0.376557 \t Train Accuracy: 0.857160 \t Validation Accuracy: 0.828300\n",
      "Epoch no 20:\t Train Loss: 0.394112 \t Train Accuracy: 0.860660 \t Validation Accuracy: 0.830500\n",
      "Epoch no 21:\t Train Loss: 0.462066 \t Train Accuracy: 0.871400 \t Validation Accuracy: 0.843200\n",
      "Epoch no 22:\t Train Loss: 0.310641 \t Train Accuracy: 0.884940 \t Validation Accuracy: 0.854400\n",
      "Epoch no 23:\t Train Loss: 0.383523 \t Train Accuracy: 0.884580 \t Validation Accuracy: 0.851400\n",
      "Epoch no 24:\t Train Loss: 0.310772 \t Train Accuracy: 0.884140 \t Validation Accuracy: 0.850400\n",
      "Epoch no 25:\t Train Loss: 0.323176 \t Train Accuracy: 0.889220 \t Validation Accuracy: 0.854800\n",
      "Epoch no 26:\t Train Loss: 0.322214 \t Train Accuracy: 0.893800 \t Validation Accuracy: 0.858200\n",
      "Epoch no 27:\t Train Loss: 0.329695 \t Train Accuracy: 0.896760 \t Validation Accuracy: 0.854100\n",
      "Epoch no 28:\t Train Loss: 0.353648 \t Train Accuracy: 0.900440 \t Validation Accuracy: 0.859400\n",
      "Epoch no 29:\t Train Loss: 0.279826 \t Train Accuracy: 0.904440 \t Validation Accuracy: 0.866100\n",
      "Epoch no 30:\t Train Loss: 0.307256 \t Train Accuracy: 0.910060 \t Validation Accuracy: 0.867200\n",
      "Epoch no 31:\t Train Loss: 0.337365 \t Train Accuracy: 0.903880 \t Validation Accuracy: 0.862000\n",
      "Epoch no 32:\t Train Loss: 0.274735 \t Train Accuracy: 0.908620 \t Validation Accuracy: 0.867400\n",
      "Epoch no 33:\t Train Loss: 0.301377 \t Train Accuracy: 0.910040 \t Validation Accuracy: 0.861500\n",
      "Epoch no 34:\t Train Loss: 0.215414 \t Train Accuracy: 0.911820 \t Validation Accuracy: 0.867700\n",
      "Epoch no 35:\t Train Loss: 0.274173 \t Train Accuracy: 0.916420 \t Validation Accuracy: 0.865800\n",
      "Epoch no 36:\t Train Loss: 0.263953 \t Train Accuracy: 0.916160 \t Validation Accuracy: 0.871200\n",
      "Epoch no 37:\t Train Loss: 0.193064 \t Train Accuracy: 0.922720 \t Validation Accuracy: 0.877400\n",
      "Epoch no 38:\t Train Loss: 0.174487 \t Train Accuracy: 0.923140 \t Validation Accuracy: 0.870200\n",
      "Epoch no 39:\t Train Loss: 0.217410 \t Train Accuracy: 0.925820 \t Validation Accuracy: 0.875400\n",
      "Epoch no 40:\t Train Loss: 0.190403 \t Train Accuracy: 0.925920 \t Validation Accuracy: 0.876000\n",
      "Epoch no 41:\t Train Loss: 0.163484 \t Train Accuracy: 0.927860 \t Validation Accuracy: 0.879900\n",
      "Epoch no 42:\t Train Loss: 0.229255 \t Train Accuracy: 0.931780 \t Validation Accuracy: 0.881100\n",
      "Epoch no 43:\t Train Loss: 0.223143 \t Train Accuracy: 0.931500 \t Validation Accuracy: 0.877500\n",
      "Epoch no 44:\t Train Loss: 0.165186 \t Train Accuracy: 0.931980 \t Validation Accuracy: 0.883800\n",
      "Epoch no 45:\t Train Loss: 0.154615 \t Train Accuracy: 0.937320 \t Validation Accuracy: 0.880200\n",
      "Epoch no 46:\t Train Loss: 0.168452 \t Train Accuracy: 0.940480 \t Validation Accuracy: 0.883500\n",
      "Epoch no 47:\t Train Loss: 0.172931 \t Train Accuracy: 0.940940 \t Validation Accuracy: 0.884700\n",
      "Epoch no 48:\t Train Loss: 0.210732 \t Train Accuracy: 0.941800 \t Validation Accuracy: 0.880300\n",
      "Epoch no 49:\t Train Loss: 0.149000 \t Train Accuracy: 0.942740 \t Validation Accuracy: 0.885600\n",
      "Epoch no 50:\t Train Loss: 0.212602 \t Train Accuracy: 0.942640 \t Validation Accuracy: 0.885400\n",
      "Epoch no 51:\t Train Loss: 0.185709 \t Train Accuracy: 0.949760 \t Validation Accuracy: 0.885400\n",
      "Epoch no 52:\t Train Loss: 0.109900 \t Train Accuracy: 0.949840 \t Validation Accuracy: 0.889500\n",
      "Epoch no 53:\t Train Loss: 0.185856 \t Train Accuracy: 0.951320 \t Validation Accuracy: 0.891000\n",
      "Epoch no 54:\t Train Loss: 0.108121 \t Train Accuracy: 0.953360 \t Validation Accuracy: 0.890500\n",
      "Epoch no 55:\t Train Loss: 0.167838 \t Train Accuracy: 0.955880 \t Validation Accuracy: 0.891600\n",
      "Epoch no 56:\t Train Loss: 0.069487 \t Train Accuracy: 0.951900 \t Validation Accuracy: 0.889000\n",
      "Epoch no 57:\t Train Loss: 0.157026 \t Train Accuracy: 0.957160 \t Validation Accuracy: 0.891300\n",
      "Epoch no 58:\t Train Loss: 0.079631 \t Train Accuracy: 0.961060 \t Validation Accuracy: 0.894200\n",
      "Epoch no 59:\t Train Loss: 0.143043 \t Train Accuracy: 0.961660 \t Validation Accuracy: 0.896400\n",
      "Epoch no 60:\t Train Loss: 0.061202 \t Train Accuracy: 0.963660 \t Validation Accuracy: 0.900100\n",
      "Epoch no 61:\t Train Loss: 0.117966 \t Train Accuracy: 0.965920 \t Validation Accuracy: 0.898900\n",
      "Epoch no 62:\t Train Loss: 0.088418 \t Train Accuracy: 0.967620 \t Validation Accuracy: 0.900400\n",
      "Epoch no 63:\t Train Loss: 0.055056 \t Train Accuracy: 0.967940 \t Validation Accuracy: 0.901500\n",
      "Epoch no 64:\t Train Loss: 0.084932 \t Train Accuracy: 0.970880 \t Validation Accuracy: 0.895300\n",
      "Epoch no 65:\t Train Loss: 0.052879 \t Train Accuracy: 0.971620 \t Validation Accuracy: 0.900900\n",
      "Epoch no 66:\t Train Loss: 0.062437 \t Train Accuracy: 0.974560 \t Validation Accuracy: 0.902600\n",
      "Epoch no 67:\t Train Loss: 0.095221 \t Train Accuracy: 0.977400 \t Validation Accuracy: 0.903600\n",
      "Epoch no 68:\t Train Loss: 0.090090 \t Train Accuracy: 0.977300 \t Validation Accuracy: 0.902500\n",
      "Epoch no 69:\t Train Loss: 0.099281 \t Train Accuracy: 0.977440 \t Validation Accuracy: 0.902300\n",
      "Epoch no 70:\t Train Loss: 0.052526 \t Train Accuracy: 0.979240 \t Validation Accuracy: 0.906800\n",
      "Epoch no 71:\t Train Loss: 0.040677 \t Train Accuracy: 0.981600 \t Validation Accuracy: 0.910100\n",
      "Epoch no 72:\t Train Loss: 0.056239 \t Train Accuracy: 0.983960 \t Validation Accuracy: 0.908100\n",
      "Epoch no 73:\t Train Loss: 0.024714 \t Train Accuracy: 0.983580 \t Validation Accuracy: 0.906500\n",
      "Epoch no 74:\t Train Loss: 0.030588 \t Train Accuracy: 0.984880 \t Validation Accuracy: 0.909100\n",
      "Epoch no 75:\t Train Loss: 0.029567 \t Train Accuracy: 0.986100 \t Validation Accuracy: 0.913500\n",
      "Epoch no 76:\t Train Loss: 0.038966 \t Train Accuracy: 0.987080 \t Validation Accuracy: 0.911900\n",
      "Epoch no 77:\t Train Loss: 0.027646 \t Train Accuracy: 0.988380 \t Validation Accuracy: 0.914100\n",
      "Epoch no 78:\t Train Loss: 0.039755 \t Train Accuracy: 0.989580 \t Validation Accuracy: 0.913800\n",
      "Epoch no 79:\t Train Loss: 0.040502 \t Train Accuracy: 0.991360 \t Validation Accuracy: 0.915200\n",
      "Epoch no 80:\t Train Loss: 0.030072 \t Train Accuracy: 0.991280 \t Validation Accuracy: 0.916600\n",
      "0.9204\n"
     ]
    },
    {
     "data": {
      "image/png": "[encoded data removed]",
      "text/plain": [
       "<Figure size 432x288 with 1 Axes>"
      ]
     },
     "metadata": {},
     "output_type": "display_data"
    }
   ],
   "source": [
    "for batch_no in range(len(batch_size)):\n",
    "  # Train/Test Data\n",
    "  train_loader=torch.utils.data.DataLoader(cifar_transformed,batch_size=batch_size[batch_no],shuffle=True, num_workers=4)\n",
    "  train_acc_loader=torch.utils.data.DataLoader(cifar_transformed,batch_size=val_batch_size,shuffle=False, num_workers=4)\n",
    "  val_loader = torch.utils.data.DataLoader(cifar_val_transformed, batch_size=val_batch_size, shuffle=False, num_workers=4)\n",
    "\n",
    "  # Model\n",
    "  resnet18 =ResNet18()\n",
    "  resnet18=resnet18.to(dev)\n",
    "  loss_func= torch.nn.CrossEntropyLoss()\n",
    "  optimizer = torch.optim.SGD(resnet18.parameters(), lr=0.1, momentum=0.9, weight_decay=5e-4)\n",
    "  scheduler = torch.optim.lr_scheduler.CosineAnnealingLR(optimizer, T_max=100)\n",
    "\n",
    "  for i in range(num_epochs):\n",
    "    # Training\n",
    "    for imgs, labels in train_loader:\n",
    "      if dev is not None:\n",
    "        imgs,labels=imgs.to(dev),labels.to(dev)\n",
    "      out= resnet18(imgs)\n",
    "      loss=loss_func(out,labels)\n",
    "      optimizer.zero_grad()\n",
    "      loss.backward()\n",
    "      optimizer.step()\n",
    "    \n",
    "    correct_val = 0\n",
    "    total_val = 0\n",
    "    correct_train_acc=0\n",
    "    total_train_acc=0\n",
    "    # Testing\n",
    "    with torch.no_grad():\n",
    "      for imgs, labels in val_loader:\n",
    "        if dev is not None:\n",
    "          imgs,labels=imgs.to(dev),labels.to(dev)\n",
    "        outputs = resnet18(imgs) \n",
    "        _, predicted = torch.max(outputs, dim=1) \n",
    "        total_val += labels.shape[0]\n",
    "        correct_val += int((predicted == labels).sum())\n",
    "      val_acc.append(correct_val/total_val)\n",
    "\n",
    "    # Compute Loss and Accuracy on training data\n",
    "      for train_acc_imgs,train_acc_labels in train_acc_loader:\n",
    "        if dev is not None:\n",
    "          train_acc_imgs,train_acc_labels=train_acc_imgs.to(dev),train_acc_labels.to(dev)\n",
    "        train_acc_out=resnet18(train_acc_imgs)\n",
    "        _, train_acc_predicted = torch.max(train_acc_out, dim=1)\n",
    "        total_train_acc += train_acc_labels.shape[0]\n",
    "        correct_train_acc += int((train_acc_predicted == train_acc_labels).sum())\n",
    "        # minibatch_acc = accuracy(train_acc, train_acc_labels,1)[0]\n",
    "        # print(\"Top-1 training accuracy for minibatch\", minibatch_acc)\n",
    "      train_acc.append(correct_train_acc/total_train_acc)\n",
    "      \n",
    "      \n",
    "      if correct_val/total_val > max_validation:\n",
    "        max_validation=correct_val/total_val\n",
    "        max_epoch=i\n",
    "        torch.save(resnet18,'./scratch.pt' )\n",
    "    epochs.append(i)\n",
    "\n",
    "    \n",
    "\n",
    "    if i%1==0:\n",
    "      print(\"Epoch no %d:\\t Train Loss: %f \\t Train Accuracy: %f \\t Validation Accuracy: %f\" % (i+1, float(loss), correct_train_acc / total_train_acc, correct_val / total_val))\n",
    "      # print(\"Train Accuracy: \", correct_train_acc / total_train_acc)\n",
    "      # print(\"Validation Accuracy: \", correct_val / total_val)\n",
    "    \n",
    "    scheduler.step()\n",
    "\n",
    "  print(max_validation)\n",
    "\n",
    "  # Plot Train Accuracy vs Test Accuracy\n",
    "  plt.plot(epochs, val_acc, label=\"test acc\", color=\"green\", linestyle='-')\n",
    "  plt.plot(epochs, train_acc, label=\"train acc\", color=\"red\",linestyle=':')\n",
    "  plt.scatter([max_epoch], [max_validation],color=\"black\", marker=\"*\", label=\"max value\", s=100 )\n",
    "  plt.title(\"Model with Batch Size\")\n",
    "  plt.legend()\n",
    "  plt.tight_layout()\n",
    "  plt.show()"
   ]
  },
  {
   "cell_type": "markdown",
   "metadata": {
    "id": "5LslVlS_wMTH"
   },
   "source": [
    "#Varied the no of epochs with a fixed batch size to measure the effect of varying the epoch size.</br>\n",
    "\n"
   ]
  },
  {
   "cell_type": "code",
   "execution_count": 9,
   "metadata": {
    "id": "8KQPLlOpwmED"
   },
   "outputs": [],
   "source": [
    "# Parameters\n",
    "batch_size=512\n",
    "val_batch_size=100\n",
    "num_epochs=[80,100]\n",
    "# learning_rate=2*1e-3\n",
    "\n",
    "dev=torch.device(\"cuda:0\" if torch.cuda.is_available() else \"cpu\")\n",
    "\n",
    "max_validation = 0\n",
    "max_epoch=0\n",
    "val_acc=[]\n",
    "train_acc=[]\n",
    "epochs=[]"
   ]
  },
  {
   "cell_type": "code",
   "execution_count": null,
   "metadata": {
    "colab": {
     "base_uri": "https://localhost:8080/"
    },
    "id": "G-0Q_Wy0wsPo",
    "outputId": "6d6334a1-73bc-4d00-81c6-453d933aad55"
   },
   "outputs": [
    {
     "name": "stdout",
     "output_type": "stream",
     "text": [
      "Epoch no 1:\t Train Loss: 1.705435 \t Train Accuracy: 0.368280 \t Validation Accuracy: 0.368500\n",
      "Epoch no 2:\t Train Loss: 1.373536 \t Train Accuracy: 0.441880 \t Validation Accuracy: 0.443300\n",
      "Epoch no 3:\t Train Loss: 1.231500 \t Train Accuracy: 0.549800 \t Validation Accuracy: 0.547200\n",
      "Epoch no 4:\t Train Loss: 1.127486 \t Train Accuracy: 0.625240 \t Validation Accuracy: 0.623000\n",
      "Epoch no 5:\t Train Loss: 1.039310 \t Train Accuracy: 0.654880 \t Validation Accuracy: 0.647400\n",
      "Epoch no 6:\t Train Loss: 0.864780 \t Train Accuracy: 0.692940 \t Validation Accuracy: 0.675700\n",
      "Epoch no 7:\t Train Loss: 0.740361 \t Train Accuracy: 0.732340 \t Validation Accuracy: 0.716100\n",
      "Epoch no 8:\t Train Loss: 0.689303 \t Train Accuracy: 0.763980 \t Validation Accuracy: 0.749300\n",
      "Epoch no 9:\t Train Loss: 0.659299 \t Train Accuracy: 0.782020 \t Validation Accuracy: 0.762100\n",
      "Epoch no 10:\t Train Loss: 0.543191 \t Train Accuracy: 0.798360 \t Validation Accuracy: 0.783500\n",
      "Epoch no 11:\t Train Loss: 0.488325 \t Train Accuracy: 0.816760 \t Validation Accuracy: 0.790800\n",
      "Epoch no 12:\t Train Loss: 0.527750 \t Train Accuracy: 0.822660 \t Validation Accuracy: 0.806200\n",
      "Epoch no 13:\t Train Loss: 0.542177 \t Train Accuracy: 0.836780 \t Validation Accuracy: 0.816800\n",
      "Epoch no 14:\t Train Loss: 0.481638 \t Train Accuracy: 0.847900 \t Validation Accuracy: 0.823000\n",
      "Epoch no 15:\t Train Loss: 0.503611 \t Train Accuracy: 0.847720 \t Validation Accuracy: 0.824900\n",
      "Epoch no 16:\t Train Loss: 0.425419 \t Train Accuracy: 0.858000 \t Validation Accuracy: 0.831100\n",
      "Epoch no 17:\t Train Loss: 0.324476 \t Train Accuracy: 0.862860 \t Validation Accuracy: 0.836300\n",
      "Epoch no 18:\t Train Loss: 0.433963 \t Train Accuracy: 0.867800 \t Validation Accuracy: 0.837600\n",
      "Epoch no 19:\t Train Loss: 0.315484 \t Train Accuracy: 0.878140 \t Validation Accuracy: 0.844600\n",
      "Epoch no 20:\t Train Loss: 0.355661 \t Train Accuracy: 0.882420 \t Validation Accuracy: 0.850200\n",
      "Epoch no 21:\t Train Loss: 0.369990 \t Train Accuracy: 0.880840 \t Validation Accuracy: 0.843900\n",
      "Epoch no 22:\t Train Loss: 0.347524 \t Train Accuracy: 0.894800 \t Validation Accuracy: 0.854400\n",
      "Epoch no 23:\t Train Loss: 0.299481 \t Train Accuracy: 0.891340 \t Validation Accuracy: 0.854800\n",
      "Epoch no 24:\t Train Loss: 0.361084 \t Train Accuracy: 0.899140 \t Validation Accuracy: 0.861900\n",
      "Epoch no 25:\t Train Loss: 0.303829 \t Train Accuracy: 0.901760 \t Validation Accuracy: 0.863400\n",
      "Epoch no 26:\t Train Loss: 0.254601 \t Train Accuracy: 0.907080 \t Validation Accuracy: 0.863300\n",
      "Epoch no 27:\t Train Loss: 0.232279 \t Train Accuracy: 0.912940 \t Validation Accuracy: 0.872400\n",
      "Epoch no 28:\t Train Loss: 0.265603 \t Train Accuracy: 0.907980 \t Validation Accuracy: 0.868600\n",
      "Epoch no 29:\t Train Loss: 0.306528 \t Train Accuracy: 0.909460 \t Validation Accuracy: 0.870100\n",
      "Epoch no 30:\t Train Loss: 0.204250 \t Train Accuracy: 0.916560 \t Validation Accuracy: 0.870100\n",
      "Epoch no 31:\t Train Loss: 0.271126 \t Train Accuracy: 0.921540 \t Validation Accuracy: 0.876500\n",
      "Epoch no 32:\t Train Loss: 0.243368 \t Train Accuracy: 0.918580 \t Validation Accuracy: 0.875200\n",
      "Epoch no 33:\t Train Loss: 0.230061 \t Train Accuracy: 0.923420 \t Validation Accuracy: 0.875100\n",
      "Epoch no 34:\t Train Loss: 0.233804 \t Train Accuracy: 0.916200 \t Validation Accuracy: 0.871700\n",
      "Epoch no 35:\t Train Loss: 0.293739 \t Train Accuracy: 0.924120 \t Validation Accuracy: 0.879400\n",
      "Epoch no 36:\t Train Loss: 0.241969 \t Train Accuracy: 0.924040 \t Validation Accuracy: 0.873500\n",
      "Epoch no 37:\t Train Loss: 0.204633 \t Train Accuracy: 0.926700 \t Validation Accuracy: 0.877700\n",
      "Epoch no 38:\t Train Loss: 0.176544 \t Train Accuracy: 0.930740 \t Validation Accuracy: 0.882900\n",
      "Epoch no 39:\t Train Loss: 0.209790 \t Train Accuracy: 0.931200 \t Validation Accuracy: 0.879700\n",
      "Epoch no 40:\t Train Loss: 0.180341 \t Train Accuracy: 0.929140 \t Validation Accuracy: 0.879500\n",
      "Epoch no 41:\t Train Loss: 0.146816 \t Train Accuracy: 0.934760 \t Validation Accuracy: 0.882200\n",
      "Epoch no 42:\t Train Loss: 0.274244 \t Train Accuracy: 0.935240 \t Validation Accuracy: 0.880500\n",
      "Epoch no 43:\t Train Loss: 0.160811 \t Train Accuracy: 0.935440 \t Validation Accuracy: 0.885100\n",
      "Epoch no 44:\t Train Loss: 0.151410 \t Train Accuracy: 0.938080 \t Validation Accuracy: 0.885100\n",
      "Epoch no 45:\t Train Loss: 0.133010 \t Train Accuracy: 0.942060 \t Validation Accuracy: 0.884900\n",
      "Epoch no 46:\t Train Loss: 0.159983 \t Train Accuracy: 0.941920 \t Validation Accuracy: 0.883700\n",
      "Epoch no 47:\t Train Loss: 0.119518 \t Train Accuracy: 0.944440 \t Validation Accuracy: 0.889600\n",
      "Epoch no 48:\t Train Loss: 0.107976 \t Train Accuracy: 0.945420 \t Validation Accuracy: 0.886900\n",
      "Epoch no 49:\t Train Loss: 0.166102 \t Train Accuracy: 0.950120 \t Validation Accuracy: 0.891300\n",
      "Epoch no 50:\t Train Loss: 0.127822 \t Train Accuracy: 0.955120 \t Validation Accuracy: 0.887000\n",
      "Epoch no 51:\t Train Loss: 0.168433 \t Train Accuracy: 0.952760 \t Validation Accuracy: 0.887700\n",
      "Epoch no 52:\t Train Loss: 0.150278 \t Train Accuracy: 0.949320 \t Validation Accuracy: 0.884500\n",
      "Epoch no 53:\t Train Loss: 0.104754 \t Train Accuracy: 0.958220 \t Validation Accuracy: 0.894900\n",
      "Epoch no 54:\t Train Loss: 0.102700 \t Train Accuracy: 0.951480 \t Validation Accuracy: 0.884000\n",
      "Epoch no 55:\t Train Loss: 0.097121 \t Train Accuracy: 0.959520 \t Validation Accuracy: 0.894700\n",
      "Epoch no 56:\t Train Loss: 0.152788 \t Train Accuracy: 0.960100 \t Validation Accuracy: 0.890600\n",
      "Epoch no 57:\t Train Loss: 0.113943 \t Train Accuracy: 0.965280 \t Validation Accuracy: 0.895900\n",
      "Epoch no 58:\t Train Loss: 0.071747 \t Train Accuracy: 0.963380 \t Validation Accuracy: 0.895400\n",
      "Epoch no 59:\t Train Loss: 0.144462 \t Train Accuracy: 0.964480 \t Validation Accuracy: 0.896300\n",
      "Epoch no 60:\t Train Loss: 0.159243 \t Train Accuracy: 0.966020 \t Validation Accuracy: 0.900900\n",
      "Epoch no 61:\t Train Loss: 0.077699 \t Train Accuracy: 0.968060 \t Validation Accuracy: 0.899600\n",
      "Epoch no 62:\t Train Loss: 0.102571 \t Train Accuracy: 0.969260 \t Validation Accuracy: 0.899400\n",
      "Epoch no 63:\t Train Loss: 0.056547 \t Train Accuracy: 0.973660 \t Validation Accuracy: 0.904800\n",
      "Epoch no 64:\t Train Loss: 0.116595 \t Train Accuracy: 0.971740 \t Validation Accuracy: 0.900600\n",
      "Epoch no 65:\t Train Loss: 0.052913 \t Train Accuracy: 0.972740 \t Validation Accuracy: 0.900800\n",
      "Epoch no 66:\t Train Loss: 0.045449 \t Train Accuracy: 0.976180 \t Validation Accuracy: 0.903000\n",
      "Epoch no 67:\t Train Loss: 0.064633 \t Train Accuracy: 0.976840 \t Validation Accuracy: 0.904500\n",
      "Epoch no 68:\t Train Loss: 0.040787 \t Train Accuracy: 0.979200 \t Validation Accuracy: 0.904700\n",
      "Epoch no 69:\t Train Loss: 0.043240 \t Train Accuracy: 0.981980 \t Validation Accuracy: 0.908500\n",
      "Epoch no 70:\t Train Loss: 0.051227 \t Train Accuracy: 0.981620 \t Validation Accuracy: 0.906400\n",
      "Epoch no 71:\t Train Loss: 0.033889 \t Train Accuracy: 0.982200 \t Validation Accuracy: 0.911800\n",
      "Epoch no 72:\t Train Loss: 0.027771 \t Train Accuracy: 0.983880 \t Validation Accuracy: 0.908700\n"
     ]
    }
   ],
   "source": [
    "for epoch_no in range(len(num_epochs)):\n",
    "  # Train/Test Data\n",
    "  train_loader=torch.utils.data.DataLoader(cifar_transformed,batch_size=batch_size,shuffle=True, num_workers=4)\n",
    "  train_acc_loader=torch.utils.data.DataLoader(cifar_transformed,batch_size=val_batch_size,shuffle=False, num_workers=4)\n",
    "  val_loader = torch.utils.data.DataLoader(cifar_val_transformed, batch_size=val_batch_size, shuffle=False, num_workers=4)\n",
    "\n",
    "  # Model\n",
    "  resnet18 =ResNet18()\n",
    "  resnet18=resnet18.to(dev)\n",
    "  loss_func= torch.nn.CrossEntropyLoss()\n",
    "  optimizer = torch.optim.SGD(resnet18.parameters(), lr=0.1, momentum=0.9, weight_decay=5e-4)\n",
    "  scheduler = torch.optim.lr_scheduler.CosineAnnealingLR(optimizer, T_max=100)\n",
    "\n",
    "  for i in range(num_epochs[epoch_no]):\n",
    "    # Training\n",
    "    for imgs, labels in train_loader:\n",
    "      if dev is not None:\n",
    "        imgs,labels=imgs.to(dev),labels.to(dev)\n",
    "      out= resnet18(imgs)\n",
    "      loss=loss_func(out,labels)\n",
    "      optimizer.zero_grad()\n",
    "      loss.backward()\n",
    "      optimizer.step()\n",
    "    \n",
    "    correct_val = 0\n",
    "    total_val = 0\n",
    "    correct_train_acc=0\n",
    "    total_train_acc=0\n",
    "    # Testing\n",
    "    with torch.no_grad():\n",
    "      for imgs, labels in val_loader:\n",
    "        if dev is not None:\n",
    "          imgs,labels=imgs.to(dev),labels.to(dev)\n",
    "        outputs = resnet18(imgs) \n",
    "        _, predicted = torch.max(outputs, dim=1) \n",
    "        total_val += labels.shape[0]\n",
    "        correct_val += int((predicted == labels).sum())\n",
    "      val_acc.append(correct_val/total_val)\n",
    "\n",
    "    # Compute Loss and Accuracy on training data\n",
    "      for train_acc_imgs,train_acc_labels in train_acc_loader:\n",
    "        if dev is not None:\n",
    "          train_acc_imgs,train_acc_labels=train_acc_imgs.to(dev),train_acc_labels.to(dev)\n",
    "        train_acc_out=resnet18(train_acc_imgs)\n",
    "        _, train_acc_predicted = torch.max(train_acc_out, dim=1)\n",
    "        total_train_acc += train_acc_labels.shape[0]\n",
    "        correct_train_acc += int((train_acc_predicted == train_acc_labels).sum())\n",
    "        # minibatch_acc = accuracy(train_acc, train_acc_labels,1)[0]\n",
    "        # print(\"Top-1 training accuracy for minibatch\", minibatch_acc)\n",
    "      train_acc.append(correct_train_acc/total_train_acc)\n",
    "      \n",
    "      \n",
    "      if correct_val/total_val > max_validation:\n",
    "        max_validation=correct_val/total_val\n",
    "        max_epoch=i\n",
    "    epochs.append(i)\n",
    "\n",
    "    \n",
    "\n",
    "    if i%1==0:\n",
    "      print(\"Epoch no %d:\\t Train Loss: %f \\t Train Accuracy: %f \\t Validation Accuracy: %f\" % (i+1, float(loss), correct_train_acc / total_train_acc, correct_val / total_val))\n",
    "    \n",
    "    scheduler.step()\n",
    "\n",
    "  print(max_validation)\n",
    "\n",
    "  # Plot Train Accuracy vs Test Accuracy\n",
    "  plt.plot(epochs, val_acc, label=\"test acc\", color=\"green\", linestyle='-')\n",
    "  plt.plot(epochs, train_acc, label=\"train acc\", color=\"red\",linestyle=':')\n",
    "  plt.scatter([max_epoch], [max_validation],color=\"black\", marker=\"*\", label=\"max value\", s=100 )\n",
    "  plt.title(\"Model with varying epochs\")\n",
    "  plt.legend()\n",
    "  plt.tight_layout()\n",
    "  plt.show()"
   ]
  },
  {
   "cell_type": "markdown",
   "metadata": {
    "id": "TiBkSYZQ0u95"
   },
   "source": [
    "#Varied the learning rate [0.1, 0.01, 0.001, 0.0001] on fixed batch size and fixed no of epoch to observe the effect of varying the epoch size</br>\n",
    "Results for lr = 0.1 have been shown above  "
   ]
  },
  {
   "cell_type": "code",
   "execution_count": null,
   "metadata": {
    "id": "MqiN7lbP0vbm"
   },
   "outputs": [],
   "source": [
    "# Parameters\n",
    "batch_size=512\n",
    "val_batch_size=100\n",
    "num_epochs=100\n",
    "learning_rate=[0.01, 0.001, 0.0001]\n",
    "\n",
    "dev=torch.device(\"cuda:0\" if torch.cuda.is_available() else \"cpu\")\n",
    "\n",
    "max_validation = 0\n",
    "max_epoch=0\n",
    "val_acc=[]\n",
    "train_acc=[]\n",
    "epochs=[]"
   ]
  },
  {
   "cell_type": "code",
   "execution_count": null,
   "metadata": {
    "colab": {
     "background_save": true,
     "base_uri": "https://localhost:8080/"
    },
    "id": "lR8bSdzT0wD9",
    "outputId": "f38f38f3-9a39-4f36-be24-6a769aef1a3c"
   },
   "outputs": [
    {
     "name": "stdout",
     "output_type": "stream",
     "text": [
      "Epoch no 1:\t Train Loss: 1.551991 \t Train Accuracy: 0.448880 \t Validation Accuracy: 0.446100\n",
      "Epoch no 2:\t Train Loss: 1.250871 \t Train Accuracy: 0.557820 \t Validation Accuracy: 0.548600\n",
      "Epoch no 3:\t Train Loss: 1.069364 \t Train Accuracy: 0.621800 \t Validation Accuracy: 0.615400\n",
      "Epoch no 4:\t Train Loss: 0.962515 \t Train Accuracy: 0.662900 \t Validation Accuracy: 0.649600\n",
      "Epoch no 5:\t Train Loss: 0.826966 \t Train Accuracy: 0.691100 \t Validation Accuracy: 0.671400\n",
      "Epoch no 6:\t Train Loss: 0.749300 \t Train Accuracy: 0.722660 \t Validation Accuracy: 0.710500\n",
      "Epoch no 7:\t Train Loss: 0.782519 \t Train Accuracy: 0.751580 \t Validation Accuracy: 0.735600\n",
      "Epoch no 8:\t Train Loss: 0.733328 \t Train Accuracy: 0.770500 \t Validation Accuracy: 0.753200\n",
      "Epoch no 9:\t Train Loss: 0.567519 \t Train Accuracy: 0.789820 \t Validation Accuracy: 0.771700\n",
      "Epoch no 10:\t Train Loss: 0.514912 \t Train Accuracy: 0.798120 \t Validation Accuracy: 0.781700\n",
      "Epoch no 11:\t Train Loss: 0.592834 \t Train Accuracy: 0.809020 \t Validation Accuracy: 0.794200\n",
      "Epoch no 12:\t Train Loss: 0.488613 \t Train Accuracy: 0.819800 \t Validation Accuracy: 0.799100\n",
      "Epoch no 13:\t Train Loss: 0.482833 \t Train Accuracy: 0.829300 \t Validation Accuracy: 0.799300\n",
      "Epoch no 14:\t Train Loss: 0.507994 \t Train Accuracy: 0.839560 \t Validation Accuracy: 0.814400\n",
      "Epoch no 15:\t Train Loss: 0.455333 \t Train Accuracy: 0.843240 \t Validation Accuracy: 0.821300\n",
      "Epoch no 16:\t Train Loss: 0.385984 \t Train Accuracy: 0.848380 \t Validation Accuracy: 0.820300\n",
      "Epoch no 17:\t Train Loss: 0.382052 \t Train Accuracy: 0.858540 \t Validation Accuracy: 0.828400\n",
      "Epoch no 18:\t Train Loss: 0.360869 \t Train Accuracy: 0.861860 \t Validation Accuracy: 0.828200\n",
      "Epoch no 19:\t Train Loss: 0.422835 \t Train Accuracy: 0.864500 \t Validation Accuracy: 0.832100\n",
      "Epoch no 20:\t Train Loss: 0.422473 \t Train Accuracy: 0.869400 \t Validation Accuracy: 0.830900\n",
      "Epoch no 21:\t Train Loss: 0.297547 \t Train Accuracy: 0.876440 \t Validation Accuracy: 0.845000\n",
      "Epoch no 22:\t Train Loss: 0.264543 \t Train Accuracy: 0.879960 \t Validation Accuracy: 0.846200\n",
      "Epoch no 23:\t Train Loss: 0.244618 \t Train Accuracy: 0.884540 \t Validation Accuracy: 0.848500\n",
      "Epoch no 24:\t Train Loss: 0.261425 \t Train Accuracy: 0.888760 \t Validation Accuracy: 0.848700\n",
      "Epoch no 25:\t Train Loss: 0.312229 \t Train Accuracy: 0.893200 \t Validation Accuracy: 0.852100\n",
      "Epoch no 26:\t Train Loss: 0.275016 \t Train Accuracy: 0.895180 \t Validation Accuracy: 0.858800\n",
      "Epoch no 27:\t Train Loss: 0.296053 \t Train Accuracy: 0.902020 \t Validation Accuracy: 0.863500\n",
      "Epoch no 28:\t Train Loss: 0.212313 \t Train Accuracy: 0.891540 \t Validation Accuracy: 0.850200\n",
      "Epoch no 29:\t Train Loss: 0.297159 \t Train Accuracy: 0.905100 \t Validation Accuracy: 0.860400\n",
      "Epoch no 30:\t Train Loss: 0.221087 \t Train Accuracy: 0.905360 \t Validation Accuracy: 0.861100\n",
      "Epoch no 31:\t Train Loss: 0.187669 \t Train Accuracy: 0.913740 \t Validation Accuracy: 0.866200\n",
      "Epoch no 32:\t Train Loss: 0.264769 \t Train Accuracy: 0.916860 \t Validation Accuracy: 0.867500\n",
      "Epoch no 33:\t Train Loss: 0.211630 \t Train Accuracy: 0.915800 \t Validation Accuracy: 0.867500\n",
      "Epoch no 34:\t Train Loss: 0.245752 \t Train Accuracy: 0.917060 \t Validation Accuracy: 0.864100\n",
      "Epoch no 35:\t Train Loss: 0.273599 \t Train Accuracy: 0.922540 \t Validation Accuracy: 0.871400\n",
      "Epoch no 36:\t Train Loss: 0.239017 \t Train Accuracy: 0.921660 \t Validation Accuracy: 0.867200\n",
      "Epoch no 37:\t Train Loss: 0.225633 \t Train Accuracy: 0.922840 \t Validation Accuracy: 0.866300\n",
      "Epoch no 38:\t Train Loss: 0.180896 \t Train Accuracy: 0.926040 \t Validation Accuracy: 0.870700\n",
      "Epoch no 39:\t Train Loss: 0.235595 \t Train Accuracy: 0.928260 \t Validation Accuracy: 0.873300\n",
      "Epoch no 40:\t Train Loss: 0.191080 \t Train Accuracy: 0.930740 \t Validation Accuracy: 0.873700\n",
      "Epoch no 41:\t Train Loss: 0.191942 \t Train Accuracy: 0.931860 \t Validation Accuracy: 0.870100\n",
      "Epoch no 42:\t Train Loss: 0.186960 \t Train Accuracy: 0.935720 \t Validation Accuracy: 0.874700\n",
      "Epoch no 43:\t Train Loss: 0.194065 \t Train Accuracy: 0.932700 \t Validation Accuracy: 0.871900\n",
      "Epoch no 44:\t Train Loss: 0.187981 \t Train Accuracy: 0.937620 \t Validation Accuracy: 0.878700\n",
      "Epoch no 45:\t Train Loss: 0.151003 \t Train Accuracy: 0.940080 \t Validation Accuracy: 0.877400\n",
      "Epoch no 46:\t Train Loss: 0.176168 \t Train Accuracy: 0.939600 \t Validation Accuracy: 0.873800\n",
      "Epoch no 47:\t Train Loss: 0.157853 \t Train Accuracy: 0.945720 \t Validation Accuracy: 0.877500\n",
      "Epoch no 48:\t Train Loss: 0.106438 \t Train Accuracy: 0.942480 \t Validation Accuracy: 0.879200\n",
      "Epoch no 49:\t Train Loss: 0.160320 \t Train Accuracy: 0.943440 \t Validation Accuracy: 0.879200\n",
      "Epoch no 50:\t Train Loss: 0.100052 \t Train Accuracy: 0.946540 \t Validation Accuracy: 0.878200\n",
      "Epoch no 51:\t Train Loss: 0.137372 \t Train Accuracy: 0.949120 \t Validation Accuracy: 0.879800\n",
      "Epoch no 52:\t Train Loss: 0.130467 \t Train Accuracy: 0.950280 \t Validation Accuracy: 0.880200\n",
      "Epoch no 53:\t Train Loss: 0.133529 \t Train Accuracy: 0.949940 \t Validation Accuracy: 0.877400\n",
      "Epoch no 54:\t Train Loss: 0.107085 \t Train Accuracy: 0.951180 \t Validation Accuracy: 0.881300\n",
      "Epoch no 55:\t Train Loss: 0.114636 \t Train Accuracy: 0.955940 \t Validation Accuracy: 0.886500\n",
      "Epoch no 56:\t Train Loss: 0.133489 \t Train Accuracy: 0.955160 \t Validation Accuracy: 0.884200\n",
      "Epoch no 57:\t Train Loss: 0.149967 \t Train Accuracy: 0.959820 \t Validation Accuracy: 0.885200\n",
      "Epoch no 58:\t Train Loss: 0.069225 \t Train Accuracy: 0.959000 \t Validation Accuracy: 0.883200\n"
     ]
    }
   ],
   "source": [
    "for lr_no in range(len(learning_rate)):\n",
    "  # Train/Test Data\n",
    "  train_loader=torch.utils.data.DataLoader(cifar_transformed,batch_size=batch_size,shuffle=True, num_workers=4)\n",
    "  train_acc_loader=torch.utils.data.DataLoader(cifar_transformed,batch_size=val_batch_size,shuffle=False, num_workers=4)\n",
    "  val_loader = torch.utils.data.DataLoader(cifar_val_transformed, batch_size=val_batch_size, shuffle=False, num_workers=4)\n",
    "\n",
    "  # Model\n",
    "  resnet18 =ResNet18()\n",
    "  resnet18=resnet18.to(dev)\n",
    "  loss_func= torch.nn.CrossEntropyLoss()\n",
    "  optimizer = torch.optim.SGD(resnet18.parameters(), lr=learning_rate[lr_no], momentum=0.9, weight_decay=5e-4)\n",
    "  scheduler = torch.optim.lr_scheduler.CosineAnnealingLR(optimizer, T_max=100)\n",
    "\n",
    "  for i in range(num_epochs):\n",
    "    # Training\n",
    "    for imgs, labels in train_loader:\n",
    "      if dev is not None:\n",
    "        imgs,labels=imgs.to(dev),labels.to(dev)\n",
    "      out= resnet18(imgs)\n",
    "      loss=loss_func(out,labels)\n",
    "      optimizer.zero_grad()\n",
    "      loss.backward()\n",
    "      optimizer.step()\n",
    "    \n",
    "    correct_val = 0\n",
    "    total_val = 0\n",
    "    correct_train_acc=0\n",
    "    total_train_acc=0\n",
    "    # Testing\n",
    "    with torch.no_grad():\n",
    "      for imgs, labels in val_loader:\n",
    "        if dev is not None:\n",
    "          imgs,labels=imgs.to(dev),labels.to(dev)\n",
    "        outputs = resnet18(imgs) \n",
    "        _, predicted = torch.max(outputs, dim=1) \n",
    "        total_val += labels.shape[0]\n",
    "        correct_val += int((predicted == labels).sum())\n",
    "      val_acc.append(correct_val/total_val)\n",
    "\n",
    "    # Compute Loss and Accuracy on training data\n",
    "      for train_acc_imgs,train_acc_labels in train_acc_loader:\n",
    "        if dev is not None:\n",
    "          train_acc_imgs,train_acc_labels=train_acc_imgs.to(dev),train_acc_labels.to(dev)\n",
    "        train_acc_out=resnet18(train_acc_imgs)\n",
    "        _, train_acc_predicted = torch.max(train_acc_out, dim=1)\n",
    "        total_train_acc += train_acc_labels.shape[0]\n",
    "        correct_train_acc += int((train_acc_predicted == train_acc_labels).sum())\n",
    "        # minibatch_acc = accuracy(train_acc, train_acc_labels,1)[0]\n",
    "        # print(\"Top-1 training accuracy for minibatch\", minibatch_acc)\n",
    "      train_acc.append(correct_train_acc/total_train_acc)\n",
    "      \n",
    "      \n",
    "      if correct_val/total_val > max_validation:\n",
    "        max_validation=correct_val/total_val\n",
    "        max_epoch=i\n",
    "    epochs.append(i)\n",
    "\n",
    "    \n",
    "\n",
    "    if i%1==0:\n",
    "      print(\"Epoch no %d:\\t Train Loss: %f \\t Train Accuracy: %f \\t Validation Accuracy: %f\" % (i+1, float(loss), correct_train_acc / total_train_acc, correct_val / total_val))\n",
    "    \n",
    "    scheduler.step()\n",
    "\n",
    "  print(max_validation)\n",
    "\n",
    "  # Plot Train Accuracy vs Test Accuracy\n",
    "  plt.plot(epochs, val_acc, label=\"test acc\", color=\"green\", linestyle='-')\n",
    "  plt.plot(epochs, train_acc, label=\"train acc\", color=\"red\",linestyle=':')\n",
    "  plt.scatter([max_epoch], [max_validation],color=\"black\", marker=\"*\", label=\"max value\", s=100 )\n",
    "  plt.title(\"Model with varying learning rate\")\n",
    "  plt.legend()\n",
    "  plt.tight_layout()\n",
    "  plt.show()"
   ]
  },
  {
   "cell_type": "markdown",
   "metadata": {
    "id": "qqXJWi6qRUQs"
   },
   "source": [
    "#Changed the optimizer and loss function to HingeEmbeddingLoss with rest values fixed to observe the effect of varying the optimizer and loss function.</br>"
   ]
  },
  {
   "cell_type": "code",
   "execution_count": null,
   "metadata": {
    "id": "NbPma_BHS0cJ"
   },
   "outputs": [],
   "source": [
    "# Parameters\n",
    "batch_size=512\n",
    "val_batch_size=100\n",
    "num_epochs=80\n",
    "# learning_rate=2*1e-3\n",
    "\n",
    "dev=torch.device(\"cuda:0\" if torch.cuda.is_available() else \"cpu\")\n",
    "\n",
    "max_validation = 0\n",
    "max_epoch=0\n",
    "val_acc=[]\n",
    "train_acc=[]\n",
    "epochs=[]"
   ]
  },
  {
   "cell_type": "code",
   "execution_count": null,
   "metadata": {
    "id": "Lcjxln_BTB_D"
   },
   "outputs": [],
   "source": [
    "# Train/Test Data\n",
    "train_loader=torch.utils.data.DataLoader(cifar_transformed,batch_size=batch_size,shuffle=True, num_workers=4)\n",
    "train_acc_loader=torch.utils.data.DataLoader(cifar_transformed,batch_size=val_batch_size,shuffle=False, num_workers=4)\n",
    "val_loader = torch.utils.data.DataLoader(cifar_val_transformed, batch_size=val_batch_size, shuffle=False, num_workers=4)\n",
    "\n",
    "# Model\n",
    "resnet18 =ResNet18()\n",
    "resnet18=resnet18.to(dev)\n",
    "loss_func= torch.nn.HingeEmbeddingLoss()\n",
    "optimizer = torch.optim.Adam(resnet18.parameters(), lr=0.1, momentum=0.9, weight_decay=5e-4)\n",
    "scheduler = torch.optim.lr_scheduler.CosineAnnealingLR(optimizer, T_max=100)\n",
    "\n",
    "for i in range(num_epochs):\n",
    "  # Training\n",
    "  for imgs, labels in train_loader:\n",
    "    if dev is not None:\n",
    "      imgs,labels=imgs.to(dev),labels.to(dev)\n",
    "    out= resnet18(imgs)\n",
    "    loss=loss_func(out,labels)\n",
    "    optimizer.zero_grad()\n",
    "    loss.backward()\n",
    "    optimizer.step()\n",
    "  \n",
    "  correct_val = 0\n",
    "  total_val = 0\n",
    "  correct_train_acc=0\n",
    "  total_train_acc=0\n",
    "  # Testing\n",
    "  with torch.no_grad():\n",
    "    for imgs, labels in val_loader:\n",
    "      if dev is not None:\n",
    "        imgs,labels=imgs.to(dev),labels.to(dev)\n",
    "      outputs = resnet18(imgs) \n",
    "      _, predicted = torch.max(outputs, dim=1) \n",
    "      total_val += labels.shape[0]\n",
    "      correct_val += int((predicted == labels).sum())\n",
    "    val_acc.append(correct_val/total_val)\n",
    "\n",
    "  # Compute Loss and Accuracy on training data\n",
    "    for train_acc_imgs,train_acc_labels in train_acc_loader:\n",
    "      if dev is not None:\n",
    "        train_acc_imgs,train_acc_labels=train_acc_imgs.to(dev),train_acc_labels.to(dev)\n",
    "      train_acc_out=resnet18(train_acc_imgs)\n",
    "      _, train_acc_predicted = torch.max(train_acc_out, dim=1)\n",
    "      total_train_acc += train_acc_labels.shape[0]\n",
    "      correct_train_acc += int((train_acc_predicted == train_acc_labels).sum())\n",
    "      # minibatch_acc = accuracy(train_acc, train_acc_labels,1)[0]\n",
    "      # print(\"Top-1 training accuracy for minibatch\", minibatch_acc)\n",
    "    train_acc.append(correct_train_acc/total_train_acc)\n",
    "    \n",
    "    \n",
    "    if correct_val/total_val > max_validation:\n",
    "      max_validation=correct_val/total_val\n",
    "      max_epoch=i\n",
    "  epochs.append(i)\n",
    "\n",
    "  \n",
    "\n",
    "  if i%1==0:\n",
    "    print(\"Epoch no %d:\\t Train Loss: %f \\t Train Accuracy: %f \\t Validation Accuracy: %f\" % (i+1, float(loss), correct_train_acc / total_train_acc, correct_val / total_val))\n",
    "  \n",
    "  scheduler.step()\n",
    "\n",
    "print(max_validation)\n",
    "\n",
    "# Plot Train Accuracy vs Test Accuracy\n",
    "plt.plot(epochs, val_acc, label=\"test acc\", color=\"green\", linestyle='-')\n",
    "plt.plot(epochs, train_acc, label=\"train acc\", color=\"red\",linestyle=':')\n",
    "plt.scatter([max_epoch], [max_validation],color=\"black\", marker=\"*\", label=\"max value\", s=100 )\n",
    "plt.title(\"Model with different optimizer and loss function\")\n",
    "plt.legend()\n",
    "plt.tight_layout()\n",
    "plt.show()"
   ]
  }
 ],
 "metadata": {
  "accelerator": "GPU",
  "colab": {
   "machine_shape": "hm",
   "provenance": []
  },
  "gpuClass": "standard",
  "kernelspec": {
   "display_name": "Python 3 (ipykernel)",
   "language": "python",
   "name": "python3"
  },
  "language_info": {
   "codemirror_mode": {
    "name": "ipython",
    "version": 3
   },
   "file_extension": ".py",
   "mimetype": "text/x-python",
   "name": "python",
   "nbconvert_exporter": "python",
   "pygments_lexer": "ipython3",
   "version": "3.9.7"
  },
  "vscode": {
   "interpreter": {
    "hash": "40d3a090f54c6569ab1632332b64b2c03c39dcf918b08424e98f38b5ae0af88f"
   }
  }
 },
 "nbformat": 4,
 "nbformat_minor": 1
}
